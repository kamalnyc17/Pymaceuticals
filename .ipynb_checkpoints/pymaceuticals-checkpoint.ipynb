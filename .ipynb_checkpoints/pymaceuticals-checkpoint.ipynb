{
 "cells": [
  {
   "cell_type": "code",
   "execution_count": 1,
   "metadata": {},
   "outputs": [
    {
     "data": {
      "text/html": [
       "<div>\n",
       "<style scoped>\n",
       "    .dataframe tbody tr th:only-of-type {\n",
       "        vertical-align: middle;\n",
       "    }\n",
       "\n",
       "    .dataframe tbody tr th {\n",
       "        vertical-align: top;\n",
       "    }\n",
       "\n",
       "    .dataframe thead th {\n",
       "        text-align: right;\n",
       "    }\n",
       "</style>\n",
       "<table border=\"1\" class=\"dataframe\">\n",
       "  <thead>\n",
       "    <tr style=\"text-align: right;\">\n",
       "      <th></th>\n",
       "      <th>Mouse ID</th>\n",
       "      <th>Timepoint</th>\n",
       "      <th>Tumor Volume (mm3)</th>\n",
       "      <th>Metastatic Sites</th>\n",
       "      <th>Drug Regimen</th>\n",
       "      <th>Sex</th>\n",
       "      <th>Age_months</th>\n",
       "      <th>Weight (g)</th>\n",
       "    </tr>\n",
       "  </thead>\n",
       "  <tbody>\n",
       "    <tr>\n",
       "      <th>1892</th>\n",
       "      <td>b879</td>\n",
       "      <td>45</td>\n",
       "      <td>72.555239</td>\n",
       "      <td>2</td>\n",
       "      <td>Stelasyn</td>\n",
       "      <td>Female</td>\n",
       "      <td>4</td>\n",
       "      <td>26</td>\n",
       "    </tr>\n",
       "    <tr>\n",
       "      <th>1795</th>\n",
       "      <td>s508</td>\n",
       "      <td>45</td>\n",
       "      <td>30.276232</td>\n",
       "      <td>0</td>\n",
       "      <td>Ramicane</td>\n",
       "      <td>Male</td>\n",
       "      <td>1</td>\n",
       "      <td>17</td>\n",
       "    </tr>\n",
       "    <tr>\n",
       "      <th>1797</th>\n",
       "      <td>y793</td>\n",
       "      <td>45</td>\n",
       "      <td>31.896238</td>\n",
       "      <td>2</td>\n",
       "      <td>Capomulin</td>\n",
       "      <td>Male</td>\n",
       "      <td>17</td>\n",
       "      <td>17</td>\n",
       "    </tr>\n",
       "    <tr>\n",
       "      <th>1798</th>\n",
       "      <td>c766</td>\n",
       "      <td>45</td>\n",
       "      <td>69.823146</td>\n",
       "      <td>4</td>\n",
       "      <td>Placebo</td>\n",
       "      <td>Female</td>\n",
       "      <td>13</td>\n",
       "      <td>26</td>\n",
       "    </tr>\n",
       "    <tr>\n",
       "      <th>1799</th>\n",
       "      <td>z578</td>\n",
       "      <td>45</td>\n",
       "      <td>30.638696</td>\n",
       "      <td>0</td>\n",
       "      <td>Ramicane</td>\n",
       "      <td>Male</td>\n",
       "      <td>11</td>\n",
       "      <td>16</td>\n",
       "    </tr>\n",
       "  </tbody>\n",
       "</table>\n",
       "</div>"
      ],
      "text/plain": [
       "     Mouse ID  Timepoint  Tumor Volume (mm3)  Metastatic Sites Drug Regimen  \\\n",
       "1892     b879         45           72.555239                 2     Stelasyn   \n",
       "1795     s508         45           30.276232                 0     Ramicane   \n",
       "1797     y793         45           31.896238                 2    Capomulin   \n",
       "1798     c766         45           69.823146                 4      Placebo   \n",
       "1799     z578         45           30.638696                 0     Ramicane   \n",
       "\n",
       "         Sex  Age_months  Weight (g)  \n",
       "1892  Female           4          26  \n",
       "1795    Male           1          17  \n",
       "1797    Male          17          17  \n",
       "1798  Female          13          26  \n",
       "1799    Male          11          16  "
      ]
     },
     "execution_count": 1,
     "metadata": {},
     "output_type": "execute_result"
    }
   ],
   "source": [
    "# importing dependancies\n",
    "import matplotlib.pyplot as plt\n",
    "import pandas as pd\n",
    "import scipy.stats as st\n",
    "\n",
    "# defining data files\n",
    "mouse_data_file = \"data/Mouse_metadata.csv\"\n",
    "study_results_file = \"data/Study_results.csv\"\n",
    "\n",
    "# read the csv files and load them to pandas\n",
    "mouse_data = pd.read_csv(mouse_data_file)\n",
    "study_data = pd.read_csv(study_results_file)\n",
    "\n",
    "# merging the datasets into a combined dataset\n",
    "complete_study_data = pd.merge(study_data, mouse_data, how='left', on=[\"Mouse ID\", \"Mouse ID\"])\n",
    "#complete_study_data.head(20)\n",
    "test_complete_study_data = complete_study_data.sort_values(by=[\"Timepoint\"], ascending=False)\n",
    "test_complete_study_data.head()"
   ]
  },
  {
   "cell_type": "code",
   "execution_count": 2,
   "metadata": {},
   "outputs": [
    {
     "name": "stdout",
     "output_type": "stream",
     "text": [
      "1893\n"
     ]
    }
   ],
   "source": [
    "# Checking the number of mice in the DataFrame.\n",
    "print(complete_study_data[\"Mouse ID\"].count())"
   ]
  },
  {
   "cell_type": "code",
   "execution_count": 3,
   "metadata": {},
   "outputs": [
    {
     "name": "stdout",
     "output_type": "stream",
     "text": [
      " g989\n",
      " g989\n",
      " g989\n",
      " g989\n",
      " g989\n"
     ]
    }
   ],
   "source": [
    "# Getting the duplicate mice by ID number that shows up for Mouse ID and Timepoint. \n",
    "duplicate_mice_data = complete_study_data[complete_study_data.duplicated([\"Mouse ID\", \"Timepoint\"])]\n",
    "print((duplicate_mice_data[\"Mouse ID\"]).to_string(index=False))"
   ]
  },
  {
   "cell_type": "code",
   "execution_count": 4,
   "metadata": {},
   "outputs": [
    {
     "data": {
      "text/html": [
       "<div>\n",
       "<style scoped>\n",
       "    .dataframe tbody tr th:only-of-type {\n",
       "        vertical-align: middle;\n",
       "    }\n",
       "\n",
       "    .dataframe tbody tr th {\n",
       "        vertical-align: top;\n",
       "    }\n",
       "\n",
       "    .dataframe thead th {\n",
       "        text-align: right;\n",
       "    }\n",
       "</style>\n",
       "<table border=\"1\" class=\"dataframe\">\n",
       "  <thead>\n",
       "    <tr style=\"text-align: right;\">\n",
       "      <th></th>\n",
       "      <th>Mouse ID</th>\n",
       "      <th>Timepoint</th>\n",
       "      <th>Tumor Volume (mm3)</th>\n",
       "      <th>Metastatic Sites</th>\n",
       "      <th>Drug Regimen</th>\n",
       "      <th>Sex</th>\n",
       "      <th>Age_months</th>\n",
       "      <th>Weight (g)</th>\n",
       "    </tr>\n",
       "  </thead>\n",
       "  <tbody>\n",
       "    <tr>\n",
       "      <th>137</th>\n",
       "      <td>g989</td>\n",
       "      <td>0</td>\n",
       "      <td>45.000000</td>\n",
       "      <td>0</td>\n",
       "      <td>Propriva</td>\n",
       "      <td>Female</td>\n",
       "      <td>21</td>\n",
       "      <td>26</td>\n",
       "    </tr>\n",
       "    <tr>\n",
       "      <th>360</th>\n",
       "      <td>g989</td>\n",
       "      <td>5</td>\n",
       "      <td>47.570392</td>\n",
       "      <td>0</td>\n",
       "      <td>Propriva</td>\n",
       "      <td>Female</td>\n",
       "      <td>21</td>\n",
       "      <td>26</td>\n",
       "    </tr>\n",
       "    <tr>\n",
       "      <th>681</th>\n",
       "      <td>g989</td>\n",
       "      <td>10</td>\n",
       "      <td>49.880528</td>\n",
       "      <td>0</td>\n",
       "      <td>Propriva</td>\n",
       "      <td>Female</td>\n",
       "      <td>21</td>\n",
       "      <td>26</td>\n",
       "    </tr>\n",
       "    <tr>\n",
       "      <th>869</th>\n",
       "      <td>g989</td>\n",
       "      <td>15</td>\n",
       "      <td>53.442020</td>\n",
       "      <td>0</td>\n",
       "      <td>Propriva</td>\n",
       "      <td>Female</td>\n",
       "      <td>21</td>\n",
       "      <td>26</td>\n",
       "    </tr>\n",
       "    <tr>\n",
       "      <th>1111</th>\n",
       "      <td>g989</td>\n",
       "      <td>20</td>\n",
       "      <td>54.657650</td>\n",
       "      <td>1</td>\n",
       "      <td>Propriva</td>\n",
       "      <td>Female</td>\n",
       "      <td>21</td>\n",
       "      <td>26</td>\n",
       "    </tr>\n",
       "  </tbody>\n",
       "</table>\n",
       "</div>"
      ],
      "text/plain": [
       "     Mouse ID  Timepoint  Tumor Volume (mm3)  Metastatic Sites Drug Regimen  \\\n",
       "137      g989          0           45.000000                 0     Propriva   \n",
       "360      g989          5           47.570392                 0     Propriva   \n",
       "681      g989         10           49.880528                 0     Propriva   \n",
       "869      g989         15           53.442020                 0     Propriva   \n",
       "1111     g989         20           54.657650                 1     Propriva   \n",
       "\n",
       "         Sex  Age_months  Weight (g)  \n",
       "137   Female          21          26  \n",
       "360   Female          21          26  \n",
       "681   Female          21          26  \n",
       "869   Female          21          26  \n",
       "1111  Female          21          26  "
      ]
     },
     "execution_count": 4,
     "metadata": {},
     "output_type": "execute_result"
    }
   ],
   "source": [
    "# Optional: Get all the data for the duplicate mouse ID. \n",
    "duplicate_mice_data"
   ]
  },
  {
   "cell_type": "code",
   "execution_count": 5,
   "metadata": {},
   "outputs": [
    {
     "data": {
      "text/html": [
       "<div>\n",
       "<style scoped>\n",
       "    .dataframe tbody tr th:only-of-type {\n",
       "        vertical-align: middle;\n",
       "    }\n",
       "\n",
       "    .dataframe tbody tr th {\n",
       "        vertical-align: top;\n",
       "    }\n",
       "\n",
       "    .dataframe thead th {\n",
       "        text-align: right;\n",
       "    }\n",
       "</style>\n",
       "<table border=\"1\" class=\"dataframe\">\n",
       "  <thead>\n",
       "    <tr style=\"text-align: right;\">\n",
       "      <th></th>\n",
       "      <th>Mouse ID</th>\n",
       "      <th>Timepoint</th>\n",
       "      <th>Tumor Volume (mm3)</th>\n",
       "      <th>Metastatic Sites</th>\n",
       "      <th>Drug Regimen</th>\n",
       "      <th>Sex</th>\n",
       "      <th>Age_months</th>\n",
       "      <th>Weight (g)</th>\n",
       "    </tr>\n",
       "  </thead>\n",
       "  <tbody>\n",
       "    <tr>\n",
       "      <th>0</th>\n",
       "      <td>b128</td>\n",
       "      <td>0</td>\n",
       "      <td>45.0</td>\n",
       "      <td>0</td>\n",
       "      <td>Capomulin</td>\n",
       "      <td>Female</td>\n",
       "      <td>9</td>\n",
       "      <td>22</td>\n",
       "    </tr>\n",
       "    <tr>\n",
       "      <th>1</th>\n",
       "      <td>f932</td>\n",
       "      <td>0</td>\n",
       "      <td>45.0</td>\n",
       "      <td>0</td>\n",
       "      <td>Ketapril</td>\n",
       "      <td>Male</td>\n",
       "      <td>15</td>\n",
       "      <td>29</td>\n",
       "    </tr>\n",
       "    <tr>\n",
       "      <th>2</th>\n",
       "      <td>g107</td>\n",
       "      <td>0</td>\n",
       "      <td>45.0</td>\n",
       "      <td>0</td>\n",
       "      <td>Ketapril</td>\n",
       "      <td>Female</td>\n",
       "      <td>2</td>\n",
       "      <td>29</td>\n",
       "    </tr>\n",
       "    <tr>\n",
       "      <th>3</th>\n",
       "      <td>a457</td>\n",
       "      <td>0</td>\n",
       "      <td>45.0</td>\n",
       "      <td>0</td>\n",
       "      <td>Ketapril</td>\n",
       "      <td>Female</td>\n",
       "      <td>11</td>\n",
       "      <td>30</td>\n",
       "    </tr>\n",
       "    <tr>\n",
       "      <th>4</th>\n",
       "      <td>c819</td>\n",
       "      <td>0</td>\n",
       "      <td>45.0</td>\n",
       "      <td>0</td>\n",
       "      <td>Ketapril</td>\n",
       "      <td>Male</td>\n",
       "      <td>21</td>\n",
       "      <td>25</td>\n",
       "    </tr>\n",
       "  </tbody>\n",
       "</table>\n",
       "</div>"
      ],
      "text/plain": [
       "  Mouse ID  Timepoint  Tumor Volume (mm3)  Metastatic Sites Drug Regimen  \\\n",
       "0     b128          0                45.0                 0    Capomulin   \n",
       "1     f932          0                45.0                 0     Ketapril   \n",
       "2     g107          0                45.0                 0     Ketapril   \n",
       "3     a457          0                45.0                 0     Ketapril   \n",
       "4     c819          0                45.0                 0     Ketapril   \n",
       "\n",
       "      Sex  Age_months  Weight (g)  \n",
       "0  Female           9          22  \n",
       "1    Male          15          29  \n",
       "2  Female           2          29  \n",
       "3  Female          11          30  \n",
       "4    Male          21          25  "
      ]
     },
     "execution_count": 5,
     "metadata": {},
     "output_type": "execute_result"
    }
   ],
   "source": [
    "# Create a clean DataFrame by dropping the duplicate mouse by its ID.\n",
    "unique_study_data = complete_study_data.drop_duplicates(subset=[\"Mouse ID\", \"Timepoint\"])\n",
    "unique_study_data.head()"
   ]
  },
  {
   "cell_type": "code",
   "execution_count": 6,
   "metadata": {},
   "outputs": [
    {
     "name": "stdout",
     "output_type": "stream",
     "text": [
      "1888\n"
     ]
    }
   ],
   "source": [
    "# Checking the number of mice in the clean DataFrame.\n",
    "print(unique_study_data[\"Mouse ID\"].count())"
   ]
  },
  {
   "cell_type": "code",
   "execution_count": 7,
   "metadata": {},
   "outputs": [
    {
     "data": {
      "text/html": [
       "<div>\n",
       "<style scoped>\n",
       "    .dataframe tbody tr th:only-of-type {\n",
       "        vertical-align: middle;\n",
       "    }\n",
       "\n",
       "    .dataframe tbody tr th {\n",
       "        vertical-align: top;\n",
       "    }\n",
       "\n",
       "    .dataframe thead th {\n",
       "        text-align: right;\n",
       "    }\n",
       "</style>\n",
       "<table border=\"1\" class=\"dataframe\">\n",
       "  <thead>\n",
       "    <tr style=\"text-align: right;\">\n",
       "      <th></th>\n",
       "      <th>Mean Tumor Volume</th>\n",
       "      <th>Median Tumor Volume</th>\n",
       "      <th>Variance Tumor Volume</th>\n",
       "      <th>Standard Deviation Tumor Volume</th>\n",
       "      <th>SEM Tumor Volume</th>\n",
       "    </tr>\n",
       "    <tr>\n",
       "      <th>Drug Regimen</th>\n",
       "      <th></th>\n",
       "      <th></th>\n",
       "      <th></th>\n",
       "      <th></th>\n",
       "      <th></th>\n",
       "    </tr>\n",
       "  </thead>\n",
       "  <tbody>\n",
       "    <tr>\n",
       "      <th>Capomulin</th>\n",
       "      <td>40.6757</td>\n",
       "      <td>41.5578</td>\n",
       "      <td>24.9478</td>\n",
       "      <td>4.9948</td>\n",
       "      <td>0.3293</td>\n",
       "    </tr>\n",
       "    <tr>\n",
       "      <th>Ceftamin</th>\n",
       "      <td>52.5912</td>\n",
       "      <td>51.7762</td>\n",
       "      <td>39.2902</td>\n",
       "      <td>6.2682</td>\n",
       "      <td>0.4698</td>\n",
       "    </tr>\n",
       "    <tr>\n",
       "      <th>Infubinol</th>\n",
       "      <td>52.8848</td>\n",
       "      <td>51.8206</td>\n",
       "      <td>43.1287</td>\n",
       "      <td>6.5672</td>\n",
       "      <td>0.4922</td>\n",
       "    </tr>\n",
       "    <tr>\n",
       "      <th>Ketapril</th>\n",
       "      <td>55.2356</td>\n",
       "      <td>53.6987</td>\n",
       "      <td>68.5536</td>\n",
       "      <td>8.2797</td>\n",
       "      <td>0.6039</td>\n",
       "    </tr>\n",
       "    <tr>\n",
       "      <th>Naftisol</th>\n",
       "      <td>54.3316</td>\n",
       "      <td>52.5093</td>\n",
       "      <td>66.1735</td>\n",
       "      <td>8.1347</td>\n",
       "      <td>0.5965</td>\n",
       "    </tr>\n",
       "    <tr>\n",
       "      <th>Placebo</th>\n",
       "      <td>54.0336</td>\n",
       "      <td>52.2889</td>\n",
       "      <td>61.1681</td>\n",
       "      <td>7.8210</td>\n",
       "      <td>0.5813</td>\n",
       "    </tr>\n",
       "    <tr>\n",
       "      <th>Propriva</th>\n",
       "      <td>52.3935</td>\n",
       "      <td>50.9100</td>\n",
       "      <td>43.1388</td>\n",
       "      <td>6.5680</td>\n",
       "      <td>0.5259</td>\n",
       "    </tr>\n",
       "    <tr>\n",
       "      <th>Ramicane</th>\n",
       "      <td>40.2167</td>\n",
       "      <td>40.6732</td>\n",
       "      <td>23.4867</td>\n",
       "      <td>4.8463</td>\n",
       "      <td>0.3210</td>\n",
       "    </tr>\n",
       "    <tr>\n",
       "      <th>Stelasyn</th>\n",
       "      <td>54.2331</td>\n",
       "      <td>52.4317</td>\n",
       "      <td>59.4506</td>\n",
       "      <td>7.7104</td>\n",
       "      <td>0.5731</td>\n",
       "    </tr>\n",
       "    <tr>\n",
       "      <th>Zoniferol</th>\n",
       "      <td>53.2365</td>\n",
       "      <td>51.8185</td>\n",
       "      <td>48.5334</td>\n",
       "      <td>6.9666</td>\n",
       "      <td>0.5164</td>\n",
       "    </tr>\n",
       "  </tbody>\n",
       "</table>\n",
       "</div>"
      ],
      "text/plain": [
       "             Mean Tumor Volume Median Tumor Volume Variance Tumor Volume  \\\n",
       "Drug Regimen                                                               \n",
       "Capomulin              40.6757             41.5578               24.9478   \n",
       "Ceftamin               52.5912             51.7762               39.2902   \n",
       "Infubinol              52.8848             51.8206               43.1287   \n",
       "Ketapril               55.2356             53.6987               68.5536   \n",
       "Naftisol               54.3316             52.5093               66.1735   \n",
       "Placebo                54.0336             52.2889               61.1681   \n",
       "Propriva               52.3935             50.9100               43.1388   \n",
       "Ramicane               40.2167             40.6732               23.4867   \n",
       "Stelasyn               54.2331             52.4317               59.4506   \n",
       "Zoniferol              53.2365             51.8185               48.5334   \n",
       "\n",
       "             Standard Deviation Tumor Volume SEM Tumor Volume  \n",
       "Drug Regimen                                                   \n",
       "Capomulin                             4.9948           0.3293  \n",
       "Ceftamin                              6.2682           0.4698  \n",
       "Infubinol                             6.5672           0.4922  \n",
       "Ketapril                              8.2797           0.6039  \n",
       "Naftisol                              8.1347           0.5965  \n",
       "Placebo                               7.8210           0.5813  \n",
       "Propriva                              6.5680           0.5259  \n",
       "Ramicane                              4.8463           0.3210  \n",
       "Stelasyn                              7.7104           0.5731  \n",
       "Zoniferol                             6.9666           0.5164  "
      ]
     },
     "execution_count": 7,
     "metadata": {},
     "output_type": "execute_result"
    }
   ],
   "source": [
    "# grouping dataset by Drug Regimen and perform statistics by regimen\n",
    "drug_regimen_data = unique_study_data.groupby([\"Drug Regimen\"])\n",
    "drug_regimen_data.first()\n",
    "\n",
    "# calculating various statistics\n",
    "mean_tumor_volume = drug_regimen_data[\"Tumor Volume (mm3)\"].mean()\n",
    "median_tumor_volume = drug_regimen_data[\"Tumor Volume (mm3)\"].median()\n",
    "variance_tumor_volume = drug_regimen_data[\"Tumor Volume (mm3)\"].var()\n",
    "standard_deviation_tumor_volume = drug_regimen_data[\"Tumor Volume (mm3)\"].std()\n",
    "SEM_tumor_volume = drug_regimen_data[\"Tumor Volume (mm3)\"].sem()\n",
    "\n",
    "\n",
    "# creating new dataframe\n",
    "summary_drug_data = pd.DataFrame({\n",
    "    \"Mean Tumor Volume\": mean_tumor_volume,\n",
    "    \"Median Tumor Volume\": median_tumor_volume,\n",
    "    \"Variance Tumor Volume\": variance_tumor_volume,\n",
    "    \"Standard Deviation Tumor Volume\": standard_deviation_tumor_volume,\n",
    "    \"SEM Tumor Volume\": SEM_tumor_volume,\n",
    "})\n",
    "\n",
    "# formatting data\n",
    "summary_drug_data[\"Mean Tumor Volume\"] = summary_drug_data[\"Mean Tumor Volume\"].map(\"{:.4f}\".format)\n",
    "summary_drug_data[\"Median Tumor Volume\"] = summary_drug_data[\"Median Tumor Volume\"].map(\"{:.4f}\".format)\n",
    "summary_drug_data[\"Variance Tumor Volume\"] = summary_drug_data[\"Variance Tumor Volume\"].map(\"{:.4f}\".format)\n",
    "summary_drug_data[\"Standard Deviation Tumor Volume\"] = summary_drug_data[\"Standard Deviation Tumor Volume\"].map(\"{:.4f}\".format)\n",
    "summary_drug_data[\"SEM Tumor Volume\"] = summary_drug_data[\"SEM Tumor Volume\"].map(\"{:.4f}\".format)\n",
    "\n",
    "# display summary statistics\n",
    "summary_drug_data"
   ]
  },
  {
   "cell_type": "code",
   "execution_count": 8,
   "metadata": {},
   "outputs": [
    {
     "data": {
      "text/html": [
       "<div>\n",
       "<style scoped>\n",
       "    .dataframe tbody tr th:only-of-type {\n",
       "        vertical-align: middle;\n",
       "    }\n",
       "\n",
       "    .dataframe tbody tr th {\n",
       "        vertical-align: top;\n",
       "    }\n",
       "\n",
       "    .dataframe thead th {\n",
       "        text-align: right;\n",
       "    }\n",
       "</style>\n",
       "<table border=\"1\" class=\"dataframe\">\n",
       "  <thead>\n",
       "    <tr style=\"text-align: right;\">\n",
       "      <th></th>\n",
       "      <th>Mice Count</th>\n",
       "    </tr>\n",
       "    <tr>\n",
       "      <th>Timepoint</th>\n",
       "      <th></th>\n",
       "    </tr>\n",
       "  </thead>\n",
       "  <tbody>\n",
       "    <tr>\n",
       "      <th>0</th>\n",
       "      <td>249</td>\n",
       "    </tr>\n",
       "    <tr>\n",
       "      <th>5</th>\n",
       "      <td>237</td>\n",
       "    </tr>\n",
       "    <tr>\n",
       "      <th>10</th>\n",
       "      <td>222</td>\n",
       "    </tr>\n",
       "    <tr>\n",
       "      <th>15</th>\n",
       "      <td>206</td>\n",
       "    </tr>\n",
       "    <tr>\n",
       "      <th>20</th>\n",
       "      <td>194</td>\n",
       "    </tr>\n",
       "    <tr>\n",
       "      <th>25</th>\n",
       "      <td>183</td>\n",
       "    </tr>\n",
       "    <tr>\n",
       "      <th>30</th>\n",
       "      <td>171</td>\n",
       "    </tr>\n",
       "    <tr>\n",
       "      <th>35</th>\n",
       "      <td>154</td>\n",
       "    </tr>\n",
       "    <tr>\n",
       "      <th>40</th>\n",
       "      <td>142</td>\n",
       "    </tr>\n",
       "    <tr>\n",
       "      <th>45</th>\n",
       "      <td>130</td>\n",
       "    </tr>\n",
       "  </tbody>\n",
       "</table>\n",
       "</div>"
      ],
      "text/plain": [
       "           Mice Count\n",
       "Timepoint            \n",
       "0                 249\n",
       "5                 237\n",
       "10                222\n",
       "15                206\n",
       "20                194\n",
       "25                183\n",
       "30                171\n",
       "35                154\n",
       "40                142\n",
       "45                130"
      ]
     },
     "execution_count": 8,
     "metadata": {},
     "output_type": "execute_result"
    }
   ],
   "source": [
    "# creating new dataframe grouped by timepoint & performing mouse headcount for each timepoint\n",
    "time_point_data = unique_study_data.groupby([\"Timepoint\"])\n",
    "mice_count_by_time_point = time_point_data[\"Mouse ID\"].count()\n",
    "\n",
    "# creating new dataframe for charts\n",
    "mice_count_data_for_bar_chart = pd.DataFrame({\n",
    "    \"Mice Count\": mice_count_by_time_point\n",
    "})\n",
    "\n",
    "# display dataframe as point of reference\n",
    "mice_count_data_for_bar_chart"
   ]
  },
  {
   "cell_type": "code",
   "execution_count": 9,
   "metadata": {},
   "outputs": [
    {
     "data": {
      "image/png": "[encoded data removed]",
      "text/plain": [
       "<Figure size 432x288 with 1 Axes>"
      ]
     },
     "metadata": {
      "needs_background": "light"
     },
     "output_type": "display_data"
    }
   ],
   "source": [
    "# Generate a bar plot showing the number of mice per time point for each treatment throughout the course of the study using pandas.\n",
    "group_keys = list(time_point_data.groups.keys())\n",
    "mice_per_time_point_in_panda = pd.DataFrame({'x_axis':group_keys, 'mice_count':mice_count_by_time_point})\n",
    "mice_per_time_point_in_panda.plot.bar(x='x_axis', y='mice_count', color=['C0', 'C1', 'C2', 'C3', 'C4'], rot=0, width=0.4, title=\"Mice Count per Time Point\", legend=False)\n",
    "\n",
    "# Adding axis labels\n",
    "_=plt.xlabel(\"Time Point\")\n",
    "_=plt.ylabel(\"Mice Count\")"
   ]
  },
  {
   "cell_type": "code",
   "execution_count": 10,
   "metadata": {},
   "outputs": [
    {
     "data": {
      "image/png": "[encoded data removed]",
      "text/plain": [
       "<Figure size 432x288 with 1 Axes>"
      ]
     },
     "metadata": {
      "needs_background": "light"
     },
     "output_type": "display_data"
    }
   ],
   "source": [
    "# Generate a bar plot showing the number of mice per time point for each treatment throughout the course of the study using pyplot.\n",
    "x_axis = time_point_data.groups.keys()\n",
    "mice_count = mice_count_by_time_point\n",
    "plt.bar(x_axis, mice_count, color=['C0', 'C1', 'C2', 'C3', 'C4'], width=2, alpha=1, align=\"center\")\n",
    "\n",
    "# Adding axis label and title of the chart\n",
    "_=plt.title(\"Mice Count per Time Point\")\n",
    "_=plt.xlabel(\"Time Point\")\n",
    "_=plt.ylabel(\"Mice Count\")"
   ]
  },
  {
   "cell_type": "code",
   "execution_count": 11,
   "metadata": {},
   "outputs": [
    {
     "data": {
      "text/html": [
       "<div>\n",
       "<style scoped>\n",
       "    .dataframe tbody tr th:only-of-type {\n",
       "        vertical-align: middle;\n",
       "    }\n",
       "\n",
       "    .dataframe tbody tr th {\n",
       "        vertical-align: top;\n",
       "    }\n",
       "\n",
       "    .dataframe thead th {\n",
       "        text-align: right;\n",
       "    }\n",
       "</style>\n",
       "<table border=\"1\" class=\"dataframe\">\n",
       "  <thead>\n",
       "    <tr style=\"text-align: right;\">\n",
       "      <th></th>\n",
       "      <th>Mice Count</th>\n",
       "    </tr>\n",
       "    <tr>\n",
       "      <th>Sex</th>\n",
       "      <th></th>\n",
       "    </tr>\n",
       "  </thead>\n",
       "  <tbody>\n",
       "    <tr>\n",
       "      <th>Female</th>\n",
       "      <td>930</td>\n",
       "    </tr>\n",
       "    <tr>\n",
       "      <th>Male</th>\n",
       "      <td>958</td>\n",
       "    </tr>\n",
       "  </tbody>\n",
       "</table>\n",
       "</div>"
      ],
      "text/plain": [
       "        Mice Count\n",
       "Sex               \n",
       "Female         930\n",
       "Male           958"
      ]
     },
     "execution_count": 11,
     "metadata": {},
     "output_type": "execute_result"
    }
   ],
   "source": [
    "# creating new dataframe grouped by the gender of the mouse\n",
    "gender_data = unique_study_data.groupby([\"Sex\"])\n",
    "mice_count_by_gender = gender_data[\"Mouse ID\"].count()\n",
    "\n",
    "# creating new dataframe for charts\n",
    "mice_by_gender_for_pie_chart = pd.DataFrame({\n",
    "    \"Mice Count\": mice_count_by_gender\n",
    "})\n",
    "\n",
    "# display dataframe as point of reference\n",
    "mice_by_gender_for_pie_chart"
   ]
  },
  {
   "cell_type": "code",
   "execution_count": 12,
   "metadata": {},
   "outputs": [
    {
     "data": {
      "image/png": "[encoded data removed]",
      "text/plain": [
       "<Figure size 432x288 with 1 Axes>"
      ]
     },
     "metadata": {},
     "output_type": "display_data"
    }
   ],
   "source": [
    "# Generate a pie plot showing the distribution of female versus male mice using pandas\n",
    "# Labels for the sections of our pie chart\n",
    "labels = [\"Female\", \"Male\"]\n",
    "# The values of each section of the pie chart\n",
    "head_count = mice_count_by_gender\n",
    "# The colors of each section of the pie chart\n",
    "colors = [\"C0\", \"C1\"]\n",
    "mice_count_by_gender.plot.pie(y=head_count, labels=labels, colors=colors,\n",
    "        autopct=\"%1.1f%%\", shadow=True, startangle=140, title=\"Mice Count by Gender\")\n",
    "# Removing y-axis label\n",
    "_=plt.ylabel(\"\")"
   ]
  },
  {
   "cell_type": "code",
   "execution_count": 13,
   "metadata": {},
   "outputs": [
    {
     "data": {
      "image/png": "[encoded data removed]",
      "text/plain": [
       "<Figure size 432x288 with 1 Axes>"
      ]
     },
     "metadata": {},
     "output_type": "display_data"
    }
   ],
   "source": [
    "# Generate a pie plot showing the distribution of female versus male mice using pyplot\n",
    "# Plot the chart in MatPlotLib\n",
    "plt.pie(head_count, labels=labels, colors=colors,\n",
    "        autopct=\"%1.1f%%\", shadow=True, startangle=140)\n",
    "# Adding title of the chart\n",
    "_=plt.title(\"Mice Count by Gender\")"
   ]
  },
  {
   "cell_type": "code",
   "execution_count": 14,
   "metadata": {},
   "outputs": [
    {
     "data": {
      "text/html": [
       "<div>\n",
       "<style scoped>\n",
       "    .dataframe tbody tr th:only-of-type {\n",
       "        vertical-align: middle;\n",
       "    }\n",
       "\n",
       "    .dataframe tbody tr th {\n",
       "        vertical-align: top;\n",
       "    }\n",
       "\n",
       "    .dataframe thead th {\n",
       "        text-align: right;\n",
       "    }\n",
       "</style>\n",
       "<table border=\"1\" class=\"dataframe\">\n",
       "  <thead>\n",
       "    <tr style=\"text-align: right;\">\n",
       "      <th></th>\n",
       "      <th>Capomulin Quartile</th>\n",
       "      <th>Ramicanen Quartile</th>\n",
       "      <th>Infubinol Quartile</th>\n",
       "      <th>Ceftamin Quartile</th>\n",
       "    </tr>\n",
       "  </thead>\n",
       "  <tbody>\n",
       "    <tr>\n",
       "      <th>0.25</th>\n",
       "      <td>32.38</td>\n",
       "      <td>30.98</td>\n",
       "      <td>62.75</td>\n",
       "      <td>61.43</td>\n",
       "    </tr>\n",
       "    <tr>\n",
       "      <th>0.5</th>\n",
       "      <td>37.31</td>\n",
       "      <td>34.85</td>\n",
       "      <td>66.08</td>\n",
       "      <td>64.30</td>\n",
       "    </tr>\n",
       "    <tr>\n",
       "      <th>0.75</th>\n",
       "      <td>40.16</td>\n",
       "      <td>38.51</td>\n",
       "      <td>67.69</td>\n",
       "      <td>67.53</td>\n",
       "    </tr>\n",
       "    <tr>\n",
       "      <th>1.0</th>\n",
       "      <td>47.69</td>\n",
       "      <td>45.22</td>\n",
       "      <td>72.23</td>\n",
       "      <td>68.92</td>\n",
       "    </tr>\n",
       "    <tr>\n",
       "      <th>IQR</th>\n",
       "      <td>7.78</td>\n",
       "      <td>7.74</td>\n",
       "      <td>4.93</td>\n",
       "      <td>6.09</td>\n",
       "    </tr>\n",
       "  </tbody>\n",
       "</table>\n",
       "</div>"
      ],
      "text/plain": [
       "      Capomulin Quartile  Ramicanen Quartile  Infubinol Quartile  \\\n",
       "0.25               32.38               30.98               62.75   \n",
       "0.5                37.31               34.85               66.08   \n",
       "0.75               40.16               38.51               67.69   \n",
       "1.0                47.69               45.22               72.23   \n",
       "IQR                 7.78                7.74                4.93   \n",
       "\n",
       "      Ceftamin Quartile  \n",
       "0.25              61.43  \n",
       "0.5               64.30  \n",
       "0.75              67.53  \n",
       "1.0               68.92  \n",
       "IQR                6.09  "
      ]
     },
     "execution_count": 14,
     "metadata": {},
     "output_type": "execute_result"
    }
   ],
   "source": [
    "# Calculate the final tumor volume of each mouse across four of the most promising treatment regimens. \n",
    "capomulin_tumor_volume = unique_study_data.loc[(unique_study_data[\"Drug Regimen\"] == \"Capomulin\") & (unique_study_data[\"Timepoint\"] == 45)]\n",
    "ramicane_tumor_volume =  unique_study_data.loc[(unique_study_data[\"Drug Regimen\"] == \"Ramicane\") & (unique_study_data[\"Timepoint\"] == 45)]\n",
    "infubinol_tumor_volume = unique_study_data.loc[(unique_study_data[\"Drug Regimen\"] == \"Infubinol\") & (unique_study_data[\"Timepoint\"] == 45)]\n",
    "ceftamin_tumor_volume = unique_study_data.loc[(unique_study_data[\"Drug Regimen\"] == \"Ceftamin\") & (unique_study_data[\"Timepoint\"] == 45)]\n",
    "\n",
    "# Calculate quantiles across four most promising treatment regimens.\n",
    "capomulin_tumor_volume_quantile = round(capomulin_tumor_volume[\"Tumor Volume (mm3)\"].quantile([0.25,0.5,0.75, 1]),2)\n",
    "ramicane_tumor_volume_quantile = round(ramicane_tumor_volume[\"Tumor Volume (mm3)\"].quantile([0.25,0.5,0.75, 1]),2)\n",
    "infubinol_tumor_volume_quantile = round(infubinol_tumor_volume[\"Tumor Volume (mm3)\"].quantile([0.25,0.5,0.75, 1]),2)\n",
    "ceftamin_tumor_volume_quantile = round(ceftamin_tumor_volume[\"Tumor Volume (mm3)\"].quantile([0.25,0.5,0.75, 1]),2)\n",
    "\n",
    "# Creating final_tumor_volume_stat Dataframe\n",
    "final_tumor_volume_stat = pd.DataFrame({\n",
    "    \"Capomulin Quartile\": capomulin_tumor_volume_quantile,\n",
    "    \"Ramicanen Quartile\": ramicane_tumor_volume_quantile,\n",
    "    \"Infubinol Quartile\": infubinol_tumor_volume_quantile,\n",
    "    \"Ceftamin Quartile\": ceftamin_tumor_volume_quantile,\n",
    "})\n",
    "\n",
    "# Calculate IQR\n",
    "capomulin_tumor_volume_IQR = round(st.iqr(capomulin_tumor_volume[\"Tumor Volume (mm3)\"], interpolation = 'midpoint'),2)\n",
    "ramicane_tumor_volume_IQR = round(st.iqr(ramicane_tumor_volume[\"Tumor Volume (mm3)\"], interpolation = 'midpoint'),2)\n",
    "infubinol_tumor_volume_IQR = round(st.iqr(infubinol_tumor_volume[\"Tumor Volume (mm3)\"], interpolation = 'midpoint'),2)\n",
    "ceftamin_tumor_volume_IQR = round(st.iqr(ceftamin_tumor_volume[\"Tumor Volume (mm3)\"], interpolation = 'midpoint'),2)\n",
    "\n",
    "# Creating IQR row\n",
    "row = pd.Series({\n",
    "    \"Capomulin Quartile\": capomulin_tumor_volume_IQR,\n",
    "    \"Ramicanen Quartile\": ramicane_tumor_volume_IQR,\n",
    "    \"Infubinol Quartile\": infubinol_tumor_volume_IQR,\n",
    "    \"Ceftamin Quartile\": ceftamin_tumor_volume_IQR},\n",
    "    name=\"IQR\")\n",
    "\n",
    "# Appending IQR row in the dataframe\n",
    "final_tumor_volume_stat = final_tumor_volume_stat.append(row)\n",
    "final_tumor_volume_stat"
   ]
  },
  {
   "cell_type": "markdown",
   "metadata": {},
   "source": [
    "# Quantitatively determine  potential Outliers based on the IQR\n",
    "### based on the IQR of all four drugs, Infubinol is the potential outlier for the given dataset\n"
   ]
  },
  {
   "cell_type": "code",
   "execution_count": 15,
   "metadata": {},
   "outputs": [
    {
     "data": {
      "image/png": "[encoded data removed]",
      "text/plain": [
       "<Figure size 432x288 with 1 Axes>"
      ]
     },
     "metadata": {
      "needs_background": "light"
     },
     "output_type": "display_data"
    }
   ],
   "source": [
    "# Generate a box plot of the final tumor volume of each mouse across four regimens of interest\n",
    "data=[capomulin_tumor_volume_quantile,\n",
    "      ramicane_tumor_volume_quantile,\n",
    "      infubinol_tumor_volume_quantile,\n",
    "      ceftamin_tumor_volume_quantile]\n",
    "labels=['Capomulin', 'Ramicanen', 'Infubinol', 'Ceftamin']\n",
    "box_plot=plt.boxplot(data, labels = labels, patch_artist=True)\n",
    "\n",
    "# coloring the outlier with red to make it stand out\n",
    "colors = ['cyan', 'cyan', 'red', 'cyan']\n",
    "[patch.set_facecolor(color) for patch, color in zip(box_plot['boxes'], colors)]\n",
    "plt.title(\"Final Tumor Volume for all Four Treatment Regimens\")\n",
    "plt.xlabel(\"Treatment Regimens\")\n",
    "plt.grid()\n",
    "plt.show()"
   ]
  },
  {
   "cell_type": "markdown",
   "metadata": {},
   "source": [
    "# Potential Outliers\n",
    "## with 4.93 IQR, Infubinol is the potential Outliers. It's colored in red"
   ]
  },
  {
   "cell_type": "code",
   "execution_count": 28,
   "metadata": {},
   "outputs": [
    {
     "data": {
      "image/png": "[encoded data removed]",
      "text/plain": [
       "<Figure size 432x288 with 1 Axes>"
      ]
     },
     "metadata": {
      "needs_background": "light"
     },
     "output_type": "display_data"
    }
   ],
   "source": [
    "# Generate a line plot of time point versus tumor volume for a mouse treated with Capomulin)\n",
    "capomulin_treatment_regimen = unique_study_data.loc[(unique_study_data[\"Drug Regimen\"] == \"Capomulin\")  & (unique_study_data[\"Mouse ID\"] == \"y793\")]\n",
    "treatment_time_point = capomulin_treatment_regimen[\"Timepoint\"]\n",
    "tumor_volume = capomulin_treatment_regimen[\"Tumor Volume (mm3)\"]\n",
    "\n",
    "# plotting the chart\n",
    "_=plt.plot(treatment_time_point, tumor_volume, color=\"blue\")\n",
    "_=plt.title(\"Timepoint vs Tumor Volume for Mouse ID: Y793 \")\n",
    "_=plt.xlabel(\"Timepoint\")\n",
    "_=plt.ylabel(\"Tumor Volume (mm3)\")"
   ]
  },
  {
   "cell_type": "code",
   "execution_count": 42,
   "metadata": {},
   "outputs": [
    {
     "data": {
      "image/png": "[encoded data removed]",
      "text/plain": [
       "<Figure size 432x288 with 1 Axes>"
      ]
     },
     "metadata": {
      "needs_background": "light"
     },
     "output_type": "display_data"
    }
   ],
   "source": [
    "# Generate a scatter plot of mouse weight versus average tumor volume for the Capomulin regimen\n",
    "entire_capomulin_treatment_regimen = unique_study_data.loc[(unique_study_data[\"Drug Regimen\"] == \"Capomulin\")]\n",
    "capomulin_treatment_regimen_by_mouse = entire_capomulin_treatment_regimen.groupby([\"Mouse ID\"])\n",
    "average_tumor_volume = capomulin_treatment_regimen_by_mouse[\"Tumor Volume (mm3)\"].mean()\n",
    "mouse_weight = entire_capomulin_treatment_regimen.groupby([\"Mouse ID\"]).nth(1)\n",
    "weight_of_each_mouse = mouse_weight[\"Weight (g)\"]\n",
    "_=plt.scatter(weight_of_each_mouse, average_tumor_volume)\n",
    "_=plt.title(\"Capomulin Regimen: Mouse weight vs average tumor volume\")\n",
    "_=plt.xlabel(\"Mouse Weight (g)\")\n",
    "_=plt.ylabel(\"Average Tumor Volume\")"
   ]
  }
 ],
 "metadata": {
  "kernelspec": {
   "display_name": "Python 3",
   "language": "python",
   "name": "python3"
  },
  "language_info": {
   "codemirror_mode": {
    "name": "ipython",
    "version": 3
   },
   "file_extension": ".py",
   "mimetype": "text/x-python",
   "name": "python",
   "nbconvert_exporter": "python",
   "pygments_lexer": "ipython3",
   "version": "3.7.6"
  }
 },
 "nbformat": 4,
 "nbformat_minor": 4
}
